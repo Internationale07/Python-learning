{
 "cells": [
  {
   "cell_type": "code",
   "execution_count": 1,
   "metadata": {},
   "outputs": [],
   "source": [
    "import sqlite3\n",
    "\n"
   ]
  },
  {
   "cell_type": "code",
   "execution_count": 3,
   "metadata": {},
   "outputs": [
    {
     "name": "stdout",
     "output_type": "stream",
     "text": [
      "Table was successfully created\n"
     ]
    }
   ],
   "source": [
    "#db connection - create if it does not exist\n",
    "conn = sqlite3.connect('students.db')\n",
    "\n",
    "#create cursor to execute\n",
    "cur = conn.cursor()\n",
    "\n",
    "#create the table\n",
    "cur.execute(\n",
    " '''\n",
    " CREATE TABLE IF NOT EXISTs tblstudents (\n",
    "    id INTEGER PRIMARY KEY AUTOINCREMENT,\n",
    "    firstname TEXT NOT NULL,\n",
    "    lastname TEXT NOT NULL,\n",
    "    age INTEGER,\n",
    "    grade TEXT\n",
    ")\n",
    " ''' \n",
    "  \n",
    ")\n",
    "#Commit changes and close connection\n",
    "conn.commit()\n",
    "conn.close()\n",
    "print(\"Table was successfully created\")\n"
   ]
  }
 ],
 "metadata": {
  "kernelspec": {
   "display_name": "ak-env",
   "language": "python",
   "name": "python3"
  },
  "language_info": {
   "codemirror_mode": {
    "name": "ipython",
    "version": 3
   },
   "file_extension": ".py",
   "mimetype": "text/x-python",
   "name": "python",
   "nbconvert_exporter": "python",
   "pygments_lexer": "ipython3",
   "version": "3.7.16"
  }
 },
 "nbformat": 4,
 "nbformat_minor": 2
}
